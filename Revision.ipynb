{
 "cells": [
  {
   "cell_type": "raw",
   "id": "a868dee0",
   "metadata": {},
   "source": [
    "IDE : integerated development environment\n",
    "       Jupyter notebook come under anaconda distributin"
   ]
  },
  {
   "cell_type": "code",
   "execution_count": 1,
   "id": "e1d54be8",
   "metadata": {},
   "outputs": [
    {
     "name": "stdout",
     "output_type": "stream",
     "text": [
      "Hello\n",
      "hello\n"
     ]
    }
   ],
   "source": [
    "print(\"Hello\")\n",
    "print('hello')"
   ]
  },
  {
   "cell_type": "raw",
   "id": "177882f4",
   "metadata": {},
   "source": [
    "Values: Data > Data Type\n",
    "    number: whole    decimal\n",
    "            integers floats\n",
    "              (int)   (float)\n",
    "    text :   string \n",
    "               (str)\n",
    "    boolen:   True / False\n",
    "                 bool"
   ]
  },
  {
   "cell_type": "code",
   "execution_count": 2,
   "id": "d55fea34",
   "metadata": {},
   "outputs": [],
   "source": [
    "university = \"SSUET\""
   ]
  },
  {
   "cell_type": "code",
   "execution_count": 3,
   "id": "bd2ab4e2",
   "metadata": {},
   "outputs": [
    {
     "data": {
      "text/plain": [
       "str"
      ]
     },
     "execution_count": 3,
     "metadata": {},
     "output_type": "execute_result"
    }
   ],
   "source": [
    "type(university)"
   ]
  },
  {
   "cell_type": "code",
   "execution_count": 4,
   "id": "8eea387d",
   "metadata": {},
   "outputs": [
    {
     "data": {
      "text/plain": [
       "int"
      ]
     },
     "execution_count": 4,
     "metadata": {},
     "output_type": "execute_result"
    }
   ],
   "source": [
    "num = 100\n",
    "type(num)"
   ]
  },
  {
   "cell_type": "code",
   "execution_count": 5,
   "id": "5644887a",
   "metadata": {},
   "outputs": [
    {
     "data": {
      "text/plain": [
       "float"
      ]
     },
     "execution_count": 5,
     "metadata": {},
     "output_type": "execute_result"
    }
   ],
   "source": [
    "dec = 23.4\n",
    "type(dec)"
   ]
  },
  {
   "cell_type": "code",
   "execution_count": 6,
   "id": "7eab3254",
   "metadata": {},
   "outputs": [
    {
     "data": {
      "text/plain": [
       "bool"
      ]
     },
     "execution_count": 6,
     "metadata": {},
     "output_type": "execute_result"
    }
   ],
   "source": [
    "type(False)"
   ]
  },
  {
   "cell_type": "code",
   "execution_count": 7,
   "id": "2f4f9d4f",
   "metadata": {},
   "outputs": [],
   "source": [
    "father_name  = \"Abdul Haq\""
   ]
  },
  {
   "cell_type": "code",
   "execution_count": 8,
   "id": "7bb01192",
   "metadata": {},
   "outputs": [
    {
     "ename": "SyntaxError",
     "evalue": "invalid syntax (<ipython-input-8-cb3c3d63d392>, line 1)",
     "output_type": "error",
     "traceback": [
      "\u001b[1;36m  File \u001b[1;32m\"<ipython-input-8-cb3c3d63d392>\"\u001b[1;36m, line \u001b[1;32m1\u001b[0m\n\u001b[1;33m    1student = \"Ali\"\u001b[0m\n\u001b[1;37m           ^\u001b[0m\n\u001b[1;31mSyntaxError\u001b[0m\u001b[1;31m:\u001b[0m invalid syntax\n"
     ]
    }
   ],
   "source": [
    "1student = \"Ali\""
   ]
  },
  {
   "cell_type": "code",
   "execution_count": 9,
   "id": "a6528d12",
   "metadata": {},
   "outputs": [],
   "source": [
    "student1 = \"Ali\""
   ]
  },
  {
   "cell_type": "code",
   "execution_count": 10,
   "id": "dbc24b24",
   "metadata": {},
   "outputs": [
    {
     "data": {
      "text/plain": [
       "3"
      ]
     },
     "execution_count": 10,
     "metadata": {},
     "output_type": "execute_result"
    }
   ],
   "source": [
    "len(student1)"
   ]
  },
  {
   "cell_type": "code",
   "execution_count": 11,
   "id": "a3d6593e",
   "metadata": {},
   "outputs": [
    {
     "data": {
      "text/plain": [
       "'ALI'"
      ]
     },
     "execution_count": 11,
     "metadata": {},
     "output_type": "execute_result"
    }
   ],
   "source": [
    "student1.upper()"
   ]
  },
  {
   "cell_type": "code",
   "execution_count": 12,
   "id": "ed9fc5d9",
   "metadata": {},
   "outputs": [
    {
     "data": {
      "text/plain": [
       "'Ali'"
      ]
     },
     "execution_count": 12,
     "metadata": {},
     "output_type": "execute_result"
    }
   ],
   "source": [
    "student1"
   ]
  },
  {
   "cell_type": "code",
   "execution_count": 14,
   "id": "88afa29c",
   "metadata": {},
   "outputs": [
    {
     "data": {
      "text/plain": [
       "True"
      ]
     },
     "execution_count": 14,
     "metadata": {},
     "output_type": "execute_result"
    }
   ],
   "source": [
    "student1.endswith('i')"
   ]
  },
  {
   "cell_type": "code",
   "execution_count": 15,
   "id": "fa9c8dfb",
   "metadata": {},
   "outputs": [],
   "source": [
    "text = \"Hello we are learning python in bootcamp\""
   ]
  },
  {
   "cell_type": "code",
   "execution_count": 16,
   "id": "07a281d5",
   "metadata": {},
   "outputs": [
    {
     "data": {
      "text/plain": [
       "['Hell', ' we are learning pyth', 'n in b', '', 'tcamp']"
      ]
     },
     "execution_count": 16,
     "metadata": {},
     "output_type": "execute_result"
    }
   ],
   "source": [
    "text.split(\"o\")"
   ]
  },
  {
   "cell_type": "code",
   "execution_count": 21,
   "id": "bfd1190b",
   "metadata": {},
   "outputs": [
    {
     "data": {
      "text/plain": [
       "['Hello', 'we', 'are', 'learning', 'python', 'in', 'bootcamp']"
      ]
     },
     "execution_count": 21,
     "metadata": {},
     "output_type": "execute_result"
    }
   ],
   "source": [
    "broken = text.split(' ')\n",
    "broken"
   ]
  },
  {
   "cell_type": "code",
   "execution_count": 19,
   "id": "d2bd24ef",
   "metadata": {},
   "outputs": [
    {
     "data": {
      "text/plain": [
       "['Hello', 'we', 'are', 'learning', 'python', 'in', 'bootcamp']"
      ]
     },
     "execution_count": 19,
     "metadata": {},
     "output_type": "execute_result"
    }
   ],
   "source": [
    "broken"
   ]
  },
  {
   "cell_type": "code",
   "execution_count": 20,
   "id": "4079dddc",
   "metadata": {},
   "outputs": [
    {
     "data": {
      "text/plain": [
       "'Hello we are learning python in bootcamp'"
      ]
     },
     "execution_count": 20,
     "metadata": {},
     "output_type": "execute_result"
    }
   ],
   "source": [
    "' '.join(broken)"
   ]
  },
  {
   "cell_type": "code",
   "execution_count": 22,
   "id": "f72082b5",
   "metadata": {},
   "outputs": [],
   "source": [
    "# String concatenation\n",
    "#Type Casting \n",
    "#String formation\n"
   ]
  },
  {
   "cell_type": "code",
   "execution_count": 27,
   "id": "d016bd0a",
   "metadata": {},
   "outputs": [
    {
     "data": {
      "text/plain": [
       "'Asad Hussain'"
      ]
     },
     "execution_count": 27,
     "metadata": {},
     "output_type": "execute_result"
    }
   ],
   "source": [
    "f_name = \"Asad\"\n",
    "l_name = \"Hussain\"\n",
    "f_name +' '+ l_name"
   ]
  },
  {
   "cell_type": "code",
   "execution_count": 28,
   "id": "8c51ce67",
   "metadata": {},
   "outputs": [
    {
     "data": {
      "text/plain": [
       "'my first name is Asad and my last name is Hussain'"
      ]
     },
     "execution_count": 28,
     "metadata": {},
     "output_type": "execute_result"
    }
   ],
   "source": [
    "\"my first name is \" + f_name + \" and my last name is \" + l_name"
   ]
  },
  {
   "cell_type": "code",
   "execution_count": 30,
   "id": "4302804d",
   "metadata": {},
   "outputs": [
    {
     "data": {
      "text/plain": [
       "'my first name is Asad and my last name is Hussain.'"
      ]
     },
     "execution_count": 30,
     "metadata": {},
     "output_type": "execute_result"
    }
   ],
   "source": [
    "f\"my first name is {f_name} and my last name is {l_name}.\""
   ]
  },
  {
   "cell_type": "code",
   "execution_count": 31,
   "id": "1115f35e",
   "metadata": {},
   "outputs": [
    {
     "data": {
      "text/plain": [
       "25"
      ]
     },
     "execution_count": 31,
     "metadata": {},
     "output_type": "execute_result"
    }
   ],
   "source": [
    "5**2"
   ]
  },
  {
   "cell_type": "code",
   "execution_count": 32,
   "id": "8a7534ae",
   "metadata": {},
   "outputs": [
    {
     "data": {
      "text/plain": [
       "3.3333333333333335"
      ]
     },
     "execution_count": 32,
     "metadata": {},
     "output_type": "execute_result"
    }
   ],
   "source": [
    "10/3"
   ]
  },
  {
   "cell_type": "code",
   "execution_count": 33,
   "id": "c9a407f7",
   "metadata": {},
   "outputs": [
    {
     "data": {
      "text/plain": [
       "1"
      ]
     },
     "execution_count": 33,
     "metadata": {},
     "output_type": "execute_result"
    }
   ],
   "source": [
    "10%3"
   ]
  },
  {
   "cell_type": "code",
   "execution_count": 34,
   "id": "e89ae31c",
   "metadata": {},
   "outputs": [
    {
     "data": {
      "text/plain": [
       "False"
      ]
     },
     "execution_count": 34,
     "metadata": {},
     "output_type": "execute_result"
    }
   ],
   "source": [
    "12 == 13"
   ]
  },
  {
   "cell_type": "code",
   "execution_count": 35,
   "id": "ea1e9a28",
   "metadata": {},
   "outputs": [
    {
     "data": {
      "text/plain": [
       "True"
      ]
     },
     "execution_count": 35,
     "metadata": {},
     "output_type": "execute_result"
    }
   ],
   "source": [
    "12 <13"
   ]
  },
  {
   "cell_type": "code",
   "execution_count": 36,
   "id": "66a85374",
   "metadata": {},
   "outputs": [
    {
     "data": {
      "text/plain": [
       "True"
      ]
     },
     "execution_count": 36,
     "metadata": {},
     "output_type": "execute_result"
    }
   ],
   "source": [
    "12 != 13"
   ]
  },
  {
   "cell_type": "code",
   "execution_count": null,
   "id": "6b791544",
   "metadata": {},
   "outputs": [],
   "source": []
  }
 ],
 "metadata": {
  "kernelspec": {
   "display_name": "Python 3",
   "language": "python",
   "name": "python3"
  },
  "language_info": {
   "codemirror_mode": {
    "name": "ipython",
    "version": 3
   },
   "file_extension": ".py",
   "mimetype": "text/x-python",
   "name": "python",
   "nbconvert_exporter": "python",
   "pygments_lexer": "ipython3",
   "version": "3.7.4"
  }
 },
 "nbformat": 4,
 "nbformat_minor": 5
}
